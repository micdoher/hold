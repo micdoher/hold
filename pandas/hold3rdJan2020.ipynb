{
 "cells": [
  {
   "cell_type": "code",
   "execution_count": 46,
   "metadata": {
    "scrolled": true
   },
   "outputs": [],
   "source": [
    "import sys, os\n",
    "import numpy as np\n",
    "import pandas as pd\n",
    "import pandas.io.sql as psql\n",
    "import psycopg2 as pg\n",
    "from datetime import datetime"
   ]
  },
  {
   "cell_type": "code",
   "execution_count": 2,
   "metadata": {},
   "outputs": [],
   "source": [
    "connection = pg.connect(\"host='192.168.1.68' dbname='holddb' user='pguser' password='ch@cky@b@s@bins'\")"
   ]
  },
  {
   "cell_type": "code",
   "execution_count": 49,
   "metadata": {},
   "outputs": [],
   "source": [
    "df = psql.read_sql(\"SELECT * FROM bookmark\", connection)"
   ]
  },
  {
   "cell_type": "code",
   "execution_count": 79,
   "metadata": {},
   "outputs": [
    {
     "name": "stdout",
     "output_type": "stream",
     "text": [
      "8              pastafood_word_1\n",
      "9              pastafood_word_1\n",
      "10             breadfood_word_1\n",
      "11             breadfood_word_1\n",
      "12            coffeefood_word_1\n",
      "13              beeffood_word_1\n",
      "14             pastafood_word_1\n",
      "15        cereal barfood_word_1\n",
      "16          red winefood_word_1\n",
      "17             breadfood_word_1\n",
      "18             curryfood_word_1\n",
      "19              nutsfood_word_1\n",
      "21         cous cousfood_word_1\n",
      "22             breadfood_word_1\n",
      "23              duckfood_word_1\n",
      "27              eggsfood_word_1\n",
      "28              fishfood_word_1\n",
      "29        cereal barfood_word_1\n",
      "50             breadfood_word_1\n",
      "51              fishfood_word_1\n",
      "52             saladfood_word_1\n",
      "63           chickenfood_word_1\n",
      "64             breadfood_word_1\n",
      "65            fennelfood_word_1\n",
      "66           almondsfood_word_1\n",
      "67          tortillafood_word_1\n",
      "68        cereal barfood_word_1\n",
      "70     vegtable soupfood_word_1\n",
      "71          red winefood_word_1\n",
      "72        cereal barfood_word_1\n",
      "73        cereal barfood_word_1\n",
      "85        cereal barfood_word_1\n",
      "86           chickenfood_word_1\n",
      "87          pancakesfood_word_1\n",
      "88             breadfood_word_1\n",
      "89             saladfood_word_1\n",
      "90              eggsfood_word_1\n",
      "91              lambfood_word_1\n",
      "92           noodlesfood_word_1\n",
      "93             breadfood_word_1\n",
      "117          gnocchifood_word_1\n",
      "118          peppersfood_word_1\n",
      "119             eggsfood_word_1\n",
      "128       croissantefood_word_1\n",
      "129    tomatoe saucefood_word_1\n",
      "130            breadfood_word_1\n",
      "135            breadfood_word_1\n",
      "136             nutsfood_word_1\n",
      "137           coffeefood_word_1\n",
      "Name: food_word_1, dtype: object\n"
     ]
    }
   ],
   "source": [
    "s = df['mood'].eq('allergies').iloc[::-1].cumsum()\n",
    "df = df[df.groupby(s).cumcount(ascending=False).isin([0,1,2])]\n",
    "# BUT IS WITHIN A 48 HR PERIOD OF VALUES IN 'S'\n",
    "date_df = df # ['date'] < 48 s['date']\n",
    "print (date_df['food_word_1'] + ['food_word_1'])"
   ]
  },
  {
   "cell_type": "code",
   "execution_count": 39,
   "metadata": {},
   "outputs": [
    {
     "name": "stdout",
     "output_type": "stream",
     "text": [
      "Element exists in Dataframe\n"
     ]
    }
   ],
   "source": [
    "if 'fennel' in df.values:\n",
    "    print('Element exists in Dataframe')"
   ]
  },
  {
   "cell_type": "code",
   "execution_count": 38,
   "metadata": {},
   "outputs": [
    {
     "data": {
      "text/plain": [
       "(49, 11)"
      ]
     },
     "execution_count": 38,
     "metadata": {},
     "output_type": "execute_result"
    }
   ],
   "source": [
    "df.shape"
   ]
  },
  {
   "cell_type": "code",
   "execution_count": null,
   "metadata": {},
   "outputs": [],
   "source": []
  }
 ],
 "metadata": {
  "kernelspec": {
   "display_name": "Python 3",
   "language": "python",
   "name": "python3"
  },
  "language_info": {
   "codemirror_mode": {
    "name": "ipython",
    "version": 3
   },
   "file_extension": ".py",
   "mimetype": "text/x-python",
   "name": "python",
   "nbconvert_exporter": "python",
   "pygments_lexer": "ipython3",
   "version": "3.7.3"
  }
 },
 "nbformat": 4,
 "nbformat_minor": 2
}
